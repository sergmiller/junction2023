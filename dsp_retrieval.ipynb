{
 "cells": [
  {
   "cell_type": "code",
   "execution_count": 45,
   "metadata": {},
   "outputs": [],
   "source": [
    "import openai\n",
    "openai.api_key_path = \"/Users/sergmiller/.openai2\"\n",
    "import dsp\n",
    "import dspy"
   ]
  },
  {
   "cell_type": "code",
   "execution_count": 5,
   "metadata": {},
   "outputs": [],
   "source": [
    "# we need to add some relevant and irrelevant questions to double-check the logic\n",
    "\n",
    "train = [\n",
    "    # base questions\n",
    "    ('Who produced the album that included a re-recording of \"Lithium\"?', ['Butch Vig']),\n",
    "    ('Who was the director of the 2009 movie featuring Peter Outerbridge as William Easton?', ['Kevin Greutert']),\n",
    "    ('The heir to the Du Pont family fortune sponsored what wrestling team?', ['Foxcatcher', 'Team Foxcatcher', 'Foxcatcher Team']),\n",
    "    ('In what year was the star of To Hell and Back born?', ['1925']),\n",
    "    ('Which award did the first book of Gary Zukav receive?', ['U.S. National Book Award', 'National Book Award']),\n",
    "    ('What city was the victim of Joseph Druces working in?', ['Boston, Massachusetts', 'Boston']),\n",
    "    # extra, with the same entities (persons) mentioned\n",
    "    ('Who founded Smart Studios in Madison, while still performing drums in Spooner at night and driving a taxi cab during the day?', ['Butch Vig']),\n",
    "    ('There were two founders of recording studio called \"Smart Studios\". The first one was Butch Vig. Who was the second founder?', ['Steve Marker']),\n",
    "\n",
    "    ('What is the first book of Gary Zukav?', ['\"The Dancing Wu Li Masters\"', \"'The Dancing Wu Li Masters'\", \"The Dancing Wu Li Masters\"]),\n",
    "    ('When did Zukav returned to the United States?', ['1970'])\n",
    "]\n",
    "\n",
    "train = [dsp.Example(question=question, answer=answer) for question, answer in train]"
   ]
  },
  {
   "cell_type": "code",
   "execution_count": 10,
   "metadata": {},
   "outputs": [
    {
     "name": "stdout",
     "output_type": "stream",
     "text": [
      "Who produced the album that included a re-recording of \"Lithium\"?\n",
      "--------------------------------------------------------------------------------\n",
      "Who produced the album that included a re-recording of \"Lithium\"?\n",
      "Who founded Smart Studios in Madison, while still performing drums in Spooner at night and driving a taxi cab during the day?\n",
      "There were two founders of recording studio called \"Smart Studios\". The first one was Butch Vig. Who was the second founder?\n"
     ]
    }
   ],
   "source": [
    "QUERY_IDX = 0\n",
    "\n",
    "# context manager is working properly\n",
    "with dsp.settings.context(vectorizer=dsp.SentenceTransformersVectorizer()):\n",
    "    knn_func = dsp.knn(train)\n",
    "\n",
    "    knn_res_train_vec = knn_func(train[QUERY_IDX], 3)\n",
    "    print(train[QUERY_IDX].question)  # the query itself\n",
    "    # similar questions\n",
    "    print('-'*80)\n",
    "    for i in [train[train.index(i)].question for i in knn_res_train_vec]:\n",
    "        print(i)"
   ]
  },
  {
   "cell_type": "code",
   "execution_count": 8,
   "metadata": {},
   "outputs": [],
   "source": [
    "dsp.settings.configure(vectorizer=dsp.SentenceTransformersVectorizer())"
   ]
  },
  {
   "cell_type": "code",
   "execution_count": 9,
   "metadata": {},
   "outputs": [
    {
     "name": "stdout",
     "output_type": "stream",
     "text": [
      "Which award did the first book of Gary Zukav receive?\n",
      "--------------------------------------------------------------------------------\n",
      "Which award did the first book of Gary Zukav receive?\n",
      "What is the first book of Gary Zukav?\n",
      "When did Zukav returned to the United States?\n"
     ]
    }
   ],
   "source": [
    "QUERY_IDX = 4\n",
    "\n",
    "knn_res_train_vec = knn_func(train[QUERY_IDX], 3)\n",
    "print(train[QUERY_IDX].question)  # the query itself\n",
    "# similar questions\n",
    "print('-'*80)\n",
    "for i in [train[train.index(i)].question for i in knn_res_train_vec]:\n",
    "    print(i)"
   ]
  },
  {
   "cell_type": "code",
   "execution_count": 66,
   "metadata": {},
   "outputs": [],
   "source": [
    "class RAG(dspy.Module):\n",
    "    def __init__(self, num_passages=5):\n",
    "        super().__init__()\n",
    "        self.retrieve = dspy.Retrieve(k=num_passages)\n",
    "        self.generate_answer = dspy.ChainOfThought(\"context, question -> answer\")\n",
    "\n",
    "    def forward(self, question):\n",
    "        context = self.retrieve(question).passages\n",
    "        answer = self.generate_answer(context=context, question=question)\n",
    "        return answer, context"
   ]
  },
  {
   "cell_type": "code",
   "execution_count": 33,
   "metadata": {},
   "outputs": [],
   "source": [
    "from sentence_transformers import SentenceTransformer"
   ]
  },
  {
   "cell_type": "code",
   "execution_count": 47,
   "metadata": {},
   "outputs": [],
   "source": [
    "turbo = dspy.OpenAI(model='gpt-3.5-turbo')\n",
    "colbertv2_wiki17_abstracts = dspy.ColBERTv2(url='http://20.102.90.50:2017/wiki17_abstracts')\n",
    "\n",
    "dspy.settings.configure(lm=turbo, rm=colbertv2_wiki17_abstracts)"
   ]
  },
  {
   "cell_type": "code",
   "execution_count": 73,
   "metadata": {},
   "outputs": [],
   "source": [
    "message = \"population of Helsinki in 2011\""
   ]
  },
  {
   "cell_type": "code",
   "execution_count": 74,
   "metadata": {},
   "outputs": [
    {
     "data": {
      "text/plain": [
       "<OpenAIObject chat.completion id=chatcmpl-8Jf9DLQ7N2tRFswgVawSzkHbFJcHr at 0x1316be5e0> JSON: {\n",
       "  \"id\": \"chatcmpl-8Jf9DLQ7N2tRFswgVawSzkHbFJcHr\",\n",
       "  \"object\": \"chat.completion\",\n",
       "  \"created\": 1699697095,\n",
       "  \"model\": \"gpt-3.5-turbo-0613\",\n",
       "  \"choices\": [\n",
       "    {\n",
       "      \"index\": 0,\n",
       "      \"message\": {\n",
       "        \"role\": \"assistant\",\n",
       "        \"content\": \"The population of Helsinki in 2011 was approximately 596,233.\"\n",
       "      },\n",
       "      \"finish_reason\": \"stop\"\n",
       "    }\n",
       "  ],\n",
       "  \"usage\": {\n",
       "    \"prompt_tokens\": 14,\n",
       "    \"completion_tokens\": 15,\n",
       "    \"total_tokens\": 29\n",
       "  }\n",
       "}"
      ]
     },
     "execution_count": 74,
     "metadata": {},
     "output_type": "execute_result"
    }
   ],
   "source": [
    "turbo.basic_request(message)"
   ]
  },
  {
   "cell_type": "code",
   "execution_count": 75,
   "metadata": {},
   "outputs": [],
   "source": [
    "# with dsp.settings.context(vectorizer=dsp.SentenceTransformersVectorizer()):\n",
    "rag = RAG()  # zero-shot, uncompiled version of RAG\n",
    "ans, context = rag(message)"
   ]
  },
  {
   "cell_type": "code",
   "execution_count": 76,
   "metadata": {},
   "outputs": [
    {
     "data": {
      "text/plain": [
       "'The population of Helsinki in 2011 was 591,306.'"
      ]
     },
     "execution_count": 76,
     "metadata": {},
     "output_type": "execute_result"
    }
   ],
   "source": [
    "ans.answer"
   ]
  },
  {
   "cell_type": "code",
   "execution_count": 77,
   "metadata": {},
   "outputs": [
    {
     "data": {
      "text/plain": [
       "['Helsinki (electoral district) | Helsinki is an electoral district represented in the Finnish \"Eduskunta\" (parliament). It covers the administrative area of the city of Helsinki, with a population of 591,306 (as of 2011 ). Helsinki currently elects 22 members of the \"Eduskunta\".',\n",
       " 'Helsinki | Helsinki ( ; ] ; Swedish: \"Helsingfors\" ; ] ) is the capital and largest city of Finland. It is in the region of Uusimaa, in southern Finland, on the shore of the Gulf of Finland. Helsinki has a population of , an urban population of , and a metropolitan population of over 1.4 million, making it the most populous municipality and urban area in Finland. Helsinki is some 80 km north of Tallinn, Estonia, 400 km east of Stockholm, Sweden, and 390 km west of Saint Petersburg, Russia. Helsinki has close historical connections with these three cities.',\n",
       " 'Laajasalo | Laajasalo (Swedish: Degerö ) is a group of islands that forms a neighbourhood in southern Helsinki, the capital of Finland. s of 2010 , it had a population of 15,961.',\n",
       " 'Haaga | Haaga (Swedish: \"Haga\" ) is a district and a former municipality in the Western major district of Helsinki with a population of 25,435.',\n",
       " 'Pukinmäki | Pukinmäki (Swedish: \"Bocksbacka\" ) is a district on the northeastern part of Helsinki, Finland. As of 2005, it had a population of 8,450.']"
      ]
     },
     "execution_count": 77,
     "metadata": {},
     "output_type": "execute_result"
    }
   ],
   "source": [
    "context"
   ]
  },
  {
   "cell_type": "code",
   "execution_count": null,
   "metadata": {},
   "outputs": [],
   "source": []
  }
 ],
 "metadata": {
  "kernelspec": {
   "display_name": "Python 3",
   "language": "python",
   "name": "python3"
  },
  "language_info": {
   "codemirror_mode": {
    "name": "ipython",
    "version": 3
   },
   "file_extension": ".py",
   "mimetype": "text/x-python",
   "name": "python",
   "nbconvert_exporter": "python",
   "pygments_lexer": "ipython3",
   "version": "3.9.16"
  }
 },
 "nbformat": 4,
 "nbformat_minor": 4
}
