{
 "cells": [
  {
   "cell_type": "code",
   "execution_count": 4,
   "metadata": {},
   "outputs": [],
   "source": [
    "import dsp"
   ]
  },
  {
   "cell_type": "code",
   "execution_count": 5,
   "metadata": {},
   "outputs": [],
   "source": [
    "# we need to add some relevant and irrelevant questions to double-check the logic\n",
    "\n",
    "train = [\n",
    "    # base questions\n",
    "    ('Who produced the album that included a re-recording of \"Lithium\"?', ['Butch Vig']),\n",
    "    ('Who was the director of the 2009 movie featuring Peter Outerbridge as William Easton?', ['Kevin Greutert']),\n",
    "    ('The heir to the Du Pont family fortune sponsored what wrestling team?', ['Foxcatcher', 'Team Foxcatcher', 'Foxcatcher Team']),\n",
    "    ('In what year was the star of To Hell and Back born?', ['1925']),\n",
    "    ('Which award did the first book of Gary Zukav receive?', ['U.S. National Book Award', 'National Book Award']),\n",
    "    ('What city was the victim of Joseph Druces working in?', ['Boston, Massachusetts', 'Boston']),\n",
    "    # extra, with the same entities (persons) mentioned\n",
    "    ('Who founded Smart Studios in Madison, while still performing drums in Spooner at night and driving a taxi cab during the day?', ['Butch Vig']),\n",
    "    ('There were two founders of recording studio called \"Smart Studios\". The first one was Butch Vig. Who was the second founder?', ['Steve Marker']),\n",
    "\n",
    "    ('What is the first book of Gary Zukav?', ['\"The Dancing Wu Li Masters\"', \"'The Dancing Wu Li Masters'\", \"The Dancing Wu Li Masters\"]),\n",
    "    ('When did Zukav returned to the United States?', ['1970'])\n",
    "]\n",
    "\n",
    "train = [dsp.Example(question=question, answer=answer) for question, answer in train]"
   ]
  },
  {
   "cell_type": "code",
   "execution_count": 10,
   "metadata": {},
   "outputs": [
    {
     "name": "stdout",
     "output_type": "stream",
     "text": [
      "Who produced the album that included a re-recording of \"Lithium\"?\n",
      "--------------------------------------------------------------------------------\n",
      "Who produced the album that included a re-recording of \"Lithium\"?\n",
      "Who founded Smart Studios in Madison, while still performing drums in Spooner at night and driving a taxi cab during the day?\n",
      "There were two founders of recording studio called \"Smart Studios\". The first one was Butch Vig. Who was the second founder?\n"
     ]
    }
   ],
   "source": [
    "QUERY_IDX = 0\n",
    "\n",
    "# context manager is working properly\n",
    "with dsp.settings.context(vectorizer=dsp.SentenceTransformersVectorizer()):\n",
    "    knn_func = dsp.knn(train)\n",
    "\n",
    "    knn_res_train_vec = knn_func(train[QUERY_IDX], 3)\n",
    "    print(train[QUERY_IDX].question)  # the query itself\n",
    "    # similar questions\n",
    "    print('-'*80)\n",
    "    for i in [train[train.index(i)].question for i in knn_res_train_vec]:\n",
    "        print(i)"
   ]
  },
  {
   "cell_type": "code",
   "execution_count": 8,
   "metadata": {},
   "outputs": [],
   "source": [
    "dsp.settings.configure(vectorizer=dsp.SentenceTransformersVectorizer())"
   ]
  },
  {
   "cell_type": "code",
   "execution_count": 9,
   "metadata": {},
   "outputs": [
    {
     "name": "stdout",
     "output_type": "stream",
     "text": [
      "Which award did the first book of Gary Zukav receive?\n",
      "--------------------------------------------------------------------------------\n",
      "Which award did the first book of Gary Zukav receive?\n",
      "What is the first book of Gary Zukav?\n",
      "When did Zukav returned to the United States?\n"
     ]
    }
   ],
   "source": [
    "QUERY_IDX = 4\n",
    "\n",
    "knn_res_train_vec = knn_func(train[QUERY_IDX], 3)\n",
    "print(train[QUERY_IDX].question)  # the query itself\n",
    "# similar questions\n",
    "print('-'*80)\n",
    "for i in [train[train.index(i)].question for i in knn_res_train_vec]:\n",
    "    print(i)"
   ]
  },
  {
   "cell_type": "code",
   "execution_count": null,
   "metadata": {},
   "outputs": [],
   "source": []
  }
 ],
 "metadata": {
  "kernelspec": {
   "display_name": "Python 3",
   "language": "python",
   "name": "python3"
  },
  "language_info": {
   "codemirror_mode": {
    "name": "ipython",
    "version": 3
   },
   "file_extension": ".py",
   "mimetype": "text/x-python",
   "name": "python",
   "nbconvert_exporter": "python",
   "pygments_lexer": "ipython3",
   "version": "3.9.16"
  }
 },
 "nbformat": 4,
 "nbformat_minor": 4
}
