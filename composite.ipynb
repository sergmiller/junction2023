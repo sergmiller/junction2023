{
 "cells": [
  {
   "cell_type": "code",
   "execution_count": 3,
   "id": "0e622df6-9134-434f-99a5-d6037a78e07a",
   "metadata": {},
   "outputs": [],
   "source": [
    "%matplotlib inline\n",
    "%config Completer.use_jedi = False\n",
    "\n",
    "import datetime\n",
    "import os\n",
    "import pandas as pd\n",
    "\n",
    "import matplotlib.pyplot as plt\n",
    "import matplotlib\n",
    "\n",
    "\n",
    "import openai\n",
    "openai.api_key_path = \"/Users/sergmiller/.openai2\"\n",
    "import dsp\n",
    "import dspy\n",
    "import tqdm"
   ]
  },
  {
   "cell_type": "code",
   "execution_count": 14,
   "id": "1810eb8d-d271-4ac4-b5ed-6c73a6a21b66",
   "metadata": {},
   "outputs": [
    {
     "name": "stderr",
     "output_type": "stream",
     "text": [
      "100%|███████████████████████████████████████████████████████████████████████████████████████████████████████████████████████████████████████████████████████████████████| 486/486 [00:02<00:00, 169.43it/s]\n"
     ]
    }
   ],
   "source": [
    "DIR = \"sp500_data/\"\n",
    "\n",
    "tickers = {}\n",
    "for t in tqdm.tqdm(os.listdir(DIR), position=0):\n",
    "    if not t[-4:] == \".csv\":\n",
    "        continue\n",
    "    tickers[t[:-4]] = pd.read_csv(DIR + t)[[\"Date\", \"Close\"]]"
   ]
  },
  {
   "cell_type": "code",
   "execution_count": 29,
   "id": "ba196b98-55b1-4763-8d32-eee06c7e6353",
   "metadata": {},
   "outputs": [
    {
     "data": {
      "text/plain": [
       "231"
      ]
     },
     "execution_count": 29,
     "metadata": {},
     "output_type": "execute_result"
    }
   ],
   "source": [
    "tickers[\"AAPL\"][tickers[\"AAPL\"][\"Date\"] >= \"2008-12-01\"].index[0]"
   ]
  },
  {
   "cell_type": "code",
   "execution_count": 30,
   "id": "d165b138-597e-4e17-8c2c-acb8c0ba131e",
   "metadata": {},
   "outputs": [],
   "source": [
    "def load_prices_info_up_to_date(last_date, history_len_days=7):\n",
    "    prices = {}\n",
    "    for i in range(history_len_days):\n",
    "        for t in tickers.keys():\n",
    "            seq = tickers[t]\n",
    "            pos = seq[seq[\"Date\"] >= last_date].index[0]\n",
    "            prices[t] = tickers[t][pos - history_len_days + 1:pos + 1]\n",
    "    return prices"
   ]
  },
  {
   "cell_type": "code",
   "execution_count": 96,
   "id": "128c9c6b-fca9-4147-b0a9-0c99f9e04441",
   "metadata": {},
   "outputs": [],
   "source": [
    "DATE = \"2014-02-30\""
   ]
  },
  {
   "cell_type": "code",
   "execution_count": 102,
   "id": "b0835dd5-66f2-44f6-9f23-797d2ca21819",
   "metadata": {},
   "outputs": [],
   "source": [
    "p = load_prices_info_up_to_date(DATE, 30)"
   ]
  },
  {
   "cell_type": "code",
   "execution_count": 103,
   "id": "f17c345b-7a4f-4cb0-abb1-30a8e49b00e2",
   "metadata": {},
   "outputs": [
    {
     "data": {
      "text/html": [
       "<div>\n",
       "<style scoped>\n",
       "    .dataframe tbody tr th:only-of-type {\n",
       "        vertical-align: middle;\n",
       "    }\n",
       "\n",
       "    .dataframe tbody tr th {\n",
       "        vertical-align: top;\n",
       "    }\n",
       "\n",
       "    .dataframe thead th {\n",
       "        text-align: right;\n",
       "    }\n",
       "</style>\n",
       "<table border=\"1\" class=\"dataframe\">\n",
       "  <thead>\n",
       "    <tr style=\"text-align: right;\">\n",
       "      <th></th>\n",
       "      <th>Date</th>\n",
       "      <th>Close</th>\n",
       "    </tr>\n",
       "  </thead>\n",
       "  <tbody>\n",
       "    <tr>\n",
       "      <th>1522</th>\n",
       "      <td>2014-01-17</td>\n",
       "      <td>19.309643</td>\n",
       "    </tr>\n",
       "    <tr>\n",
       "      <th>1523</th>\n",
       "      <td>2014-01-21</td>\n",
       "      <td>19.609644</td>\n",
       "    </tr>\n",
       "    <tr>\n",
       "      <th>1524</th>\n",
       "      <td>2014-01-22</td>\n",
       "      <td>19.696787</td>\n",
       "    </tr>\n",
       "    <tr>\n",
       "      <th>1525</th>\n",
       "      <td>2014-01-23</td>\n",
       "      <td>19.863571</td>\n",
       "    </tr>\n",
       "    <tr>\n",
       "      <th>1526</th>\n",
       "      <td>2014-01-24</td>\n",
       "      <td>19.502501</td>\n",
       "    </tr>\n",
       "    <tr>\n",
       "      <th>1527</th>\n",
       "      <td>2014-01-27</td>\n",
       "      <td>19.660713</td>\n",
       "    </tr>\n",
       "    <tr>\n",
       "      <th>1528</th>\n",
       "      <td>2014-01-28</td>\n",
       "      <td>18.089287</td>\n",
       "    </tr>\n",
       "    <tr>\n",
       "      <th>1529</th>\n",
       "      <td>2014-01-29</td>\n",
       "      <td>17.883928</td>\n",
       "    </tr>\n",
       "    <tr>\n",
       "      <th>1530</th>\n",
       "      <td>2014-01-30</td>\n",
       "      <td>17.849285</td>\n",
       "    </tr>\n",
       "    <tr>\n",
       "      <th>1531</th>\n",
       "      <td>2014-01-31</td>\n",
       "      <td>17.878571</td>\n",
       "    </tr>\n",
       "    <tr>\n",
       "      <th>1532</th>\n",
       "      <td>2014-02-03</td>\n",
       "      <td>17.911785</td>\n",
       "    </tr>\n",
       "    <tr>\n",
       "      <th>1533</th>\n",
       "      <td>2014-02-04</td>\n",
       "      <td>18.171070</td>\n",
       "    </tr>\n",
       "    <tr>\n",
       "      <th>1534</th>\n",
       "      <td>2014-02-05</td>\n",
       "      <td>18.306786</td>\n",
       "    </tr>\n",
       "    <tr>\n",
       "      <th>1535</th>\n",
       "      <td>2014-02-06</td>\n",
       "      <td>18.303928</td>\n",
       "    </tr>\n",
       "    <tr>\n",
       "      <th>1536</th>\n",
       "      <td>2014-02-07</td>\n",
       "      <td>18.559999</td>\n",
       "    </tr>\n",
       "    <tr>\n",
       "      <th>1537</th>\n",
       "      <td>2014-02-10</td>\n",
       "      <td>18.892500</td>\n",
       "    </tr>\n",
       "    <tr>\n",
       "      <th>1538</th>\n",
       "      <td>2014-02-11</td>\n",
       "      <td>19.141430</td>\n",
       "    </tr>\n",
       "    <tr>\n",
       "      <th>1539</th>\n",
       "      <td>2014-02-12</td>\n",
       "      <td>19.139999</td>\n",
       "    </tr>\n",
       "    <tr>\n",
       "      <th>1540</th>\n",
       "      <td>2014-02-13</td>\n",
       "      <td>19.443930</td>\n",
       "    </tr>\n",
       "    <tr>\n",
       "      <th>1541</th>\n",
       "      <td>2014-02-14</td>\n",
       "      <td>19.428213</td>\n",
       "    </tr>\n",
       "    <tr>\n",
       "      <th>1542</th>\n",
       "      <td>2014-02-18</td>\n",
       "      <td>19.499643</td>\n",
       "    </tr>\n",
       "    <tr>\n",
       "      <th>1543</th>\n",
       "      <td>2014-02-19</td>\n",
       "      <td>19.191786</td>\n",
       "    </tr>\n",
       "    <tr>\n",
       "      <th>1544</th>\n",
       "      <td>2014-02-20</td>\n",
       "      <td>18.969643</td>\n",
       "    </tr>\n",
       "    <tr>\n",
       "      <th>1545</th>\n",
       "      <td>2014-02-21</td>\n",
       "      <td>18.758928</td>\n",
       "    </tr>\n",
       "    <tr>\n",
       "      <th>1546</th>\n",
       "      <td>2014-02-24</td>\n",
       "      <td>18.841070</td>\n",
       "    </tr>\n",
       "    <tr>\n",
       "      <th>1547</th>\n",
       "      <td>2014-02-25</td>\n",
       "      <td>18.645000</td>\n",
       "    </tr>\n",
       "    <tr>\n",
       "      <th>1548</th>\n",
       "      <td>2014-02-26</td>\n",
       "      <td>18.476786</td>\n",
       "    </tr>\n",
       "    <tr>\n",
       "      <th>1549</th>\n",
       "      <td>2014-02-27</td>\n",
       "      <td>18.845358</td>\n",
       "    </tr>\n",
       "    <tr>\n",
       "      <th>1550</th>\n",
       "      <td>2014-02-28</td>\n",
       "      <td>18.794287</td>\n",
       "    </tr>\n",
       "    <tr>\n",
       "      <th>1551</th>\n",
       "      <td>2014-03-03</td>\n",
       "      <td>18.848572</td>\n",
       "    </tr>\n",
       "  </tbody>\n",
       "</table>\n",
       "</div>"
      ],
      "text/plain": [
       "            Date      Close\n",
       "1522  2014-01-17  19.309643\n",
       "1523  2014-01-21  19.609644\n",
       "1524  2014-01-22  19.696787\n",
       "1525  2014-01-23  19.863571\n",
       "1526  2014-01-24  19.502501\n",
       "1527  2014-01-27  19.660713\n",
       "1528  2014-01-28  18.089287\n",
       "1529  2014-01-29  17.883928\n",
       "1530  2014-01-30  17.849285\n",
       "1531  2014-01-31  17.878571\n",
       "1532  2014-02-03  17.911785\n",
       "1533  2014-02-04  18.171070\n",
       "1534  2014-02-05  18.306786\n",
       "1535  2014-02-06  18.303928\n",
       "1536  2014-02-07  18.559999\n",
       "1537  2014-02-10  18.892500\n",
       "1538  2014-02-11  19.141430\n",
       "1539  2014-02-12  19.139999\n",
       "1540  2014-02-13  19.443930\n",
       "1541  2014-02-14  19.428213\n",
       "1542  2014-02-18  19.499643\n",
       "1543  2014-02-19  19.191786\n",
       "1544  2014-02-20  18.969643\n",
       "1545  2014-02-21  18.758928\n",
       "1546  2014-02-24  18.841070\n",
       "1547  2014-02-25  18.645000\n",
       "1548  2014-02-26  18.476786\n",
       "1549  2014-02-27  18.845358\n",
       "1550  2014-02-28  18.794287\n",
       "1551  2014-03-03  18.848572"
      ]
     },
     "execution_count": 103,
     "metadata": {},
     "output_type": "execute_result"
    }
   ],
   "source": [
    "p[\"AAPL\"]"
   ]
  },
  {
   "cell_type": "code",
   "execution_count": 104,
   "id": "40cfd1d2-875a-4327-8f23-3938a961a88e",
   "metadata": {},
   "outputs": [],
   "source": [
    "def make_sentence(ticker, history):\n",
    "    seq = \"This is close prices for ticker \" + ticker + \" for last \" + str(len(history))  +\" days:\\n\"\n",
    "    for l in history.values:\n",
    "        date,vol = l\n",
    "        seq += date + \":\" + str(round(vol, 3)) + \"\\n\"\n",
    "    return seq"
   ]
  },
  {
   "cell_type": "code",
   "execution_count": 105,
   "id": "a0efee38-b5a4-4a19-b0a5-e4ee6f5d84ca",
   "metadata": {},
   "outputs": [
    {
     "name": "stdout",
     "output_type": "stream",
     "text": [
      "This is close prices for ticker AAPL for last 30 days:\n",
      "2014-01-17:19.31\n",
      "2014-01-21:19.61\n",
      "2014-01-22:19.697\n",
      "2014-01-23:19.864\n",
      "2014-01-24:19.503\n",
      "2014-01-27:19.661\n",
      "2014-01-28:18.089\n",
      "2014-01-29:17.884\n",
      "2014-01-30:17.849\n",
      "2014-01-31:17.879\n",
      "2014-02-03:17.912\n",
      "2014-02-04:18.171\n",
      "2014-02-05:18.307\n",
      "2014-02-06:18.304\n",
      "2014-02-07:18.56\n",
      "2014-02-10:18.892\n",
      "2014-02-11:19.141\n",
      "2014-02-12:19.14\n",
      "2014-02-13:19.444\n",
      "2014-02-14:19.428\n",
      "2014-02-18:19.5\n",
      "2014-02-19:19.192\n",
      "2014-02-20:18.97\n",
      "2014-02-21:18.759\n",
      "2014-02-24:18.841\n",
      "2014-02-25:18.645\n",
      "2014-02-26:18.477\n",
      "2014-02-27:18.845\n",
      "2014-02-28:18.794\n",
      "2014-03-03:18.849\n",
      "\n"
     ]
    }
   ],
   "source": [
    "print(make_sentence(\"AAPL\", p[\"AAPL\"]))"
   ]
  },
  {
   "cell_type": "code",
   "execution_count": 106,
   "id": "29f14098-eee6-4ede-a4ba-a4a6f21965eb",
   "metadata": {},
   "outputs": [],
   "source": [
    "def plot_price(ticker, history):\n",
    "    k,v = history[\"Date\"].values, history[\"Close\"].values\n",
    "    numeric_dates = matplotlib.dates.date2num(k)\n",
    "\n",
    "    # Plot the curve\n",
    "    plt.figure(figsize=(30,5))\n",
    "    plt.title(ticker)\n",
    "    plt.plot_date(numeric_dates, v, '-')\n",
    "    plt.grid(True)"
   ]
  },
  {
   "cell_type": "code",
   "execution_count": 107,
   "id": "77e6741c-feb6-41d7-87a8-3fa1448d7f08",
   "metadata": {},
   "outputs": [
    {
     "data": {
      "image/png": "[encoded data removed]",
      "text/plain": [
       "<Figure size 3000x500 with 1 Axes>"
      ]
     },
     "metadata": {},
     "output_type": "display_data"
    }
   ],
   "source": [
    "plot_price(\"AAPL\", p[\"AAPL\"])"
   ]
  },
  {
   "cell_type": "code",
   "execution_count": 115,
   "id": "a935b633-cccf-4761-879a-c09627e699e8",
   "metadata": {},
   "outputs": [
    {
     "name": "stderr",
     "output_type": "stream",
     "text": [
      "100%|██████████████████████████████████████████████████████████████████████████████████████████████████████████████████████████████████████████████████████████████████| 485/485 [00:00<00:00, 7904.68it/s]\n"
     ]
    }
   ],
   "source": [
    "prices_samples = [dsp.Example(question=make_sentence(ticker, p[ticker]), answer=None) for ticker in tqdm.tqdm(tickers.keys(), position=0)]"
   ]
  },
  {
   "cell_type": "code",
   "execution_count": 116,
   "id": "0d35ed37-b08c-4324-824e-032298884e4f",
   "metadata": {},
   "outputs": [
    {
     "data": {
      "text/plain": [
       "[{'question': 'This is close prices for ticker CSCO for last 30 days:\\n2014-01-17:22.74\\n2014-01-21:22.83\\n2014-01-22:22.84\\n2014-01-23:22.56\\n2014-01-24:22.2\\n2014-01-27:22.0\\n2014-01-28:21.75\\n2014-01-29:21.65\\n2014-01-30:21.98\\n2014-01-31:21.91\\n2014-02-03:21.55\\n2014-02-04:21.8\\n2014-02-05:21.98\\n2014-02-06:22.49\\n2014-02-07:22.67\\n2014-02-10:22.83\\n2014-02-11:22.71\\n2014-02-12:22.85\\n2014-02-13:22.27\\n2014-02-14:22.56\\n2014-02-18:22.41\\n2014-02-19:22.28\\n2014-02-20:22.3\\n2014-02-21:22.13\\n2014-02-24:22.12\\n2014-02-25:21.84\\n2014-02-26:21.93\\n2014-02-27:21.92\\n2014-02-28:21.8\\n2014-03-03:21.57\\n',\n",
       "  'answer': None},\n",
       " {'question': 'This is close prices for ticker UAL for last 30 days:\\n2014-01-17:47.07\\n2014-01-21:47.91\\n2014-01-22:49.18\\n2014-01-23:48.43\\n2014-01-24:46.13\\n2014-01-27:45.27\\n2014-01-28:46.03\\n2014-01-29:45.43\\n2014-01-30:46.43\\n2014-01-31:45.84\\n2014-02-03:43.82\\n2014-02-04:43.97\\n2014-02-05:43.61\\n2014-02-06:45.03\\n2014-02-07:45.54\\n2014-02-10:45.11\\n2014-02-11:44.01\\n2014-02-12:44.49\\n2014-02-13:45.1\\n2014-02-14:44.5\\n2014-02-18:43.66\\n2014-02-19:43.28\\n2014-02-20:45.69\\n2014-02-21:45.6\\n2014-02-24:46.1\\n2014-02-25:47.26\\n2014-02-26:46.81\\n2014-02-27:46.51\\n2014-02-28:44.96\\n2014-03-03:44.01\\n',\n",
       "  'answer': None}]"
      ]
     },
     "execution_count": 116,
     "metadata": {},
     "output_type": "execute_result"
    }
   ],
   "source": [
    "prices_samples[:2]"
   ]
  },
  {
   "cell_type": "code",
   "execution_count": 83,
   "id": "6d05a240-dfe0-4f94-b14e-f69bea8f8cdf",
   "metadata": {},
   "outputs": [
    {
     "data": {
      "text/html": [
       "<div>\n",
       "<style scoped>\n",
       "    .dataframe tbody tr th:only-of-type {\n",
       "        vertical-align: middle;\n",
       "    }\n",
       "\n",
       "    .dataframe tbody tr th {\n",
       "        vertical-align: top;\n",
       "    }\n",
       "\n",
       "    .dataframe thead th {\n",
       "        text-align: right;\n",
       "    }\n",
       "</style>\n",
       "<table border=\"1\" class=\"dataframe\">\n",
       "  <thead>\n",
       "    <tr style=\"text-align: right;\">\n",
       "      <th></th>\n",
       "      <th>Date</th>\n",
       "      <th>News</th>\n",
       "    </tr>\n",
       "  </thead>\n",
       "  <tbody>\n",
       "    <tr>\n",
       "      <th>0</th>\n",
       "      <td>2016-07-01</td>\n",
       "      <td>A 117-year-old woman in Mexico City finally re...</td>\n",
       "    </tr>\n",
       "    <tr>\n",
       "      <th>1</th>\n",
       "      <td>2016-07-01</td>\n",
       "      <td>IMF chief backs Athens as permanent Olympic host</td>\n",
       "    </tr>\n",
       "    <tr>\n",
       "      <th>2</th>\n",
       "      <td>2016-07-01</td>\n",
       "      <td>The president of France says if Brexit won, so...</td>\n",
       "    </tr>\n",
       "    <tr>\n",
       "      <th>3</th>\n",
       "      <td>2016-07-01</td>\n",
       "      <td>British Man Who Must Give Police 24 Hours' Not...</td>\n",
       "    </tr>\n",
       "    <tr>\n",
       "      <th>4</th>\n",
       "      <td>2016-07-01</td>\n",
       "      <td>100+ Nobel laureates urge Greenpeace to stop o...</td>\n",
       "    </tr>\n",
       "  </tbody>\n",
       "</table>\n",
       "</div>"
      ],
      "text/plain": [
       "         Date                                               News\n",
       "0  2016-07-01  A 117-year-old woman in Mexico City finally re...\n",
       "1  2016-07-01   IMF chief backs Athens as permanent Olympic host\n",
       "2  2016-07-01  The president of France says if Brexit won, so...\n",
       "3  2016-07-01  British Man Who Must Give Police 24 Hours' Not...\n",
       "4  2016-07-01  100+ Nobel laureates urge Greenpeace to stop o..."
      ]
     },
     "execution_count": 83,
     "metadata": {},
     "output_type": "execute_result"
    }
   ],
   "source": [
    "news = pd.read_csv(\"news_data/RedditNews.csv\")\n",
    "news.head()"
   ]
  },
  {
   "cell_type": "code",
   "execution_count": 94,
   "id": "7273c238-b2e9-409c-a063-3afc84d0e69c",
   "metadata": {},
   "outputs": [],
   "source": [
    "def upload_news_for_date(date, limit=None):\n",
    "    res = news[news[\"Date\"] <= date][\"News\"].values\n",
    "    if limit is not None:\n",
    "        res = res[-limit:]\n",
    "    return res"
   ]
  },
  {
   "cell_type": "code",
   "execution_count": 223,
   "id": "004c7052-9b52-4583-a8d6-d20e2d30920b",
   "metadata": {},
   "outputs": [
    {
     "data": {
      "text/plain": [
       "array([\"b'American Express gets $3.39 Billion, Capital One gets $3.6 Billion, DIscover gets $1.2 Billion...Lets have the intrest rate for this money at 22.99% compounded monthly and with a $3 million late fee.'\",\n",
       "       'b\"Archbishop Desmond Tutu has accused South Africa of losing the moral high ground by failing to stand up to Zimbabwe\\'s president, Robert Mugabe. \"'],\n",
       "      dtype=object)"
      ]
     },
     "execution_count": 223,
     "metadata": {},
     "output_type": "execute_result"
    }
   ],
   "source": [
    "actual_news = upload_news_for_date(DATE, 5000)\n",
    "actual_news[:2]"
   ]
  },
  {
   "cell_type": "code",
   "execution_count": 224,
   "id": "ec9d95e4-9341-46fa-b35b-4eec45df61dd",
   "metadata": {},
   "outputs": [],
   "source": [
    "news_samples = [dsp.Example(question=it, answer=None) for it in actual_news]"
   ]
  },
  {
   "cell_type": "code",
   "execution_count": 225,
   "id": "c9a8bcbc-3084-40ba-bad6-094fab857b07",
   "metadata": {},
   "outputs": [],
   "source": [
    "with dsp.settings.context(vectorizer=dsp.SentenceTransformersVectorizer()):\n",
    "    knn_func_news = dsp.knn(news_samples)"
   ]
  },
  {
   "cell_type": "code",
   "execution_count": 205,
   "id": "aad0e750-d189-4455-81c8-c9d861a4ee76",
   "metadata": {},
   "outputs": [],
   "source": [
    "turbo = dspy.OpenAI(model='gpt-3.5-turbo')  # can be replaced https://github.com/stanfordnlp/dspy/blob/7d578638d070818f319dc892bb662c435d1cc1bd/docs/using_local_models.md#hfmodel\n",
    "# lm = dspy.HFClientTGI(model=\"meta-llama/Llama-2-7b-hf\", port=8080, url=\"http://localhost\")\n",
    "# lm = dspy.HFModel(model = 'meta-llama/Llama-2-7b-hf')\n",
    "colbertv2_wiki17_abstracts = dspy.ColBERTv2(url='http://20.102.90.50:2017/wiki17_abstracts')\n",
    "\n",
    "dspy.settings.configure(lm=turbo, rm=colbertv2_wiki17_abstracts)"
   ]
  },
  {
   "cell_type": "code",
   "execution_count": 253,
   "id": "373ea7f8-191a-485c-9051-d37b68652ed7",
   "metadata": {},
   "outputs": [],
   "source": [
    "GOLDEN_QUESTIONS = [\"is there any risks of pandemic\"]"
   ]
  },
  {
   "cell_type": "code",
   "execution_count": 248,
   "id": "c7498403-6857-45bb-b3c8-bc656e4d54e1",
   "metadata": {},
   "outputs": [],
   "source": [
    "secret = \"today is \" + DATE + \" use list of current relevant news\""
   ]
  },
  {
   "cell_type": "code",
   "execution_count": 254,
   "id": "3e5b2fc9-dc62-42fa-b326-5ccab2f04d48",
   "metadata": {},
   "outputs": [],
   "source": [
    "passages = 20\n",
    "message = GOLDEN_QUESTIONS[0]\n",
    "close_samples = [x[\"question\"] for x in knn_func_news(dsp.Example(question=message, answer=None), passages)]"
   ]
  },
  {
   "cell_type": "code",
   "execution_count": 255,
   "id": "73d67ade-e3ac-4fad-be71-0bb9973f6af2",
   "metadata": {},
   "outputs": [
    {
     "data": {
      "text/plain": [
       "[\"b'The world is failing to guard against the inevitable spread of a devastating flu pandemic which could kill 50 million people and wreak massive disruption around the globe'\",\n",
       " \"b'Threat of world AIDS pandemic among heterosexuals is over, report admits'\",\n",
       " 'b\\'\"Sovietology, like paranoia, is a very dangerous disease, and it is a pity that part of the U.S. administration still suffers from it,\" Medvedev said.\\'',\n",
       " 'b\\'Unidentified disease with Ebola like symptoms kills 3, Chinese officials say \"there was some influenza\"\\'',\n",
       " \"b'Cholera outbreak strikes Zimbabwe'\",\n",
       " \"b'Read the blogs of students quarantined in a Chinese University as a cholera epidemic unfolds'\",\n",
       " \"b'Biological terror attack likely by 2013, panel says'\",\n",
       " \"b' 3,000 dead from cholera in Zimbabwe, Local Government takes action to conceal the scale of this deadly epidemic'\",\n",
       " \"b'Human-to-Human Transmission of Bird Flu Discovered in China'\",\n",
       " \"b'Mugabe: Cholera is biological attack by west. '\",\n",
       " \"b'Zimbabwe on brink of collapse as outbreak of cholera spreads'\",\n",
       " 'b\\'Zimbabwe Health Crisis \"A Disaster of Unimaginable Proportions\"\\'',\n",
       " \"b'Palestinian Sources Say Israel Still Preventing Sick From Leaving Gaza'\",\n",
       " \"b'After a few cryptic reports in the European media over the Summer, the story of the two influenza biochemistry researchers who were brutally killed in London June 29, 2008 '\",\n",
       " 'b\\'Zimbabwe blames cholera on British \"biological weapon\"\\'',\n",
       " \"b'Millions to die in China from lung disease'\",\n",
       " \"b'South Africa President Mbekis denial of the well-established scientific consensus about the viral cause of AIDS and the essential role of antiretroviral drugs led to the death of 365,000 people'\",\n",
       " \"b'US officials think Kim Jong Il may be gravely ill'\",\n",
       " 'b\"China\\'s athletes pushing themselves to limit causing some to risk HEALTH...\"',\n",
       " \"b'Visitors Suffering from Mental Illnesses Banned from Olympics'\"]"
      ]
     },
     "execution_count": 255,
     "metadata": {},
     "output_type": "execute_result"
    }
   ],
   "source": [
    "close_samples"
   ]
  },
  {
   "cell_type": "code",
   "execution_count": 258,
   "id": "60da7753-16d8-44ae-a588-5034146275a5",
   "metadata": {},
   "outputs": [],
   "source": [
    "chain = dspy.ChainOfThought(\"context, question -> answer\")"
   ]
  },
  {
   "cell_type": "code",
   "execution_count": null,
   "id": "741b4455-7619-4f7a-9fc1-5f8bc9a81ec4",
   "metadata": {},
   "outputs": [],
   "source": [
    "chain(context=close_samples, question=message + secret).answer"
   ]
  },
  {
   "cell_type": "code",
   "execution_count": null,
   "id": "53679746-df6a-4a0c-b154-743350c47f3b",
   "metadata": {},
   "outputs": [],
   "source": []
  }
 ],
 "metadata": {
  "kernelspec": {
   "display_name": "Python 3 (ipykernel)",
   "language": "python",
   "name": "python3"
  },
  "language_info": {
   "codemirror_mode": {
    "name": "ipython",
    "version": 3
   },
   "file_extension": ".py",
   "mimetype": "text/x-python",
   "name": "python",
   "nbconvert_exporter": "python",
   "pygments_lexer": "ipython3",
   "version": "3.9.16"
  }
 },
 "nbformat": 4,
 "nbformat_minor": 5
}
